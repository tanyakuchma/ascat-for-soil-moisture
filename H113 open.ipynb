{
 "cells": [
  {
   "cell_type": "markdown",
   "metadata": {},
   "source": [
    "## Download, read and visualize ASCAT SSM CDR\n",
    "In this exercise we will\n",
    "\n",
    "* Download data from the H SAF FTP \n",
    "* Move the data into the correct location\n",
    "* Read data\n",
    "* Visualize data in time series\n",
    "* Extract a temporal subset\n",
    "* Performing some basic statistical analysis"
   ]
  },
  {
   "cell_type": "markdown",
   "metadata": {},
   "source": [
    "### Data download from H SAF FTP\n",
    "\n",
    "Each of you should have been given a username and password for reading data from the H SAF FTP. We can use e.g. the terminal to download data.\n",
    "\n",
    "```\n",
    "ftp ftphsaf.meteoam.it\n",
    "username: <your_username>\n",
    "password: <your_password>\n",
    "cd products/h113\n",
    "get H113_1575.nc\n",
    "exit\n",
    "```"
   ]
  },
  {
   "cell_type": "code",
   "execution_count": 1,
   "metadata": {},
   "outputs": [
    {
     "name": "stderr",
     "output_type": "stream",
     "text": [
      "D:\\miniconda\\lib\\site-packages\\ascat\\h_saf.py:38: UserWarning: pygrib can not be imported GRIB files (H14) can not be read.\n",
      "  'pygrib can not be imported GRIB files (H14) can not be read.')\n",
      "D:\\miniconda\\lib\\site-packages\\ascat\\read_native\\bufr.py:50: UserWarning: pybufr-ecmwf can not be imported, H08 and H07 images can not be read.\n",
      "  'pybufr-ecmwf can not be imported, H08 and H07 images can '\n"
     ]
    }
   ],
   "source": [
    "import os\n",
    "import ascat.h_saf as h_saf\n",
    "\n",
    "test_data_path = os.path.join('test_data', 'hsaf')\n",
    "h113_path = os.path.join(test_data_path, 'h113')\n",
    "grid_path = os.path.join(test_data_path, 'grid')\n",
    "static_layer_path = os.path.join(test_data_path, 'static_layer')\n",
    "\n",
    "cdr_reader = h_saf.H113Ts(h113_path, grid_path, static_layer_path=static_layer_path)"
   ]
  },
  {
   "cell_type": "code",
   "execution_count": 2,
   "metadata": {},
   "outputs": [
    {
     "name": "stdout",
     "output_type": "stream",
     "text": [
      "                            proc_flag  conf_flag  corr_flag    sm  sat_id  \\\n",
      "2007-01-02 19:03:00.000000          0          0          0  94.0       3   \n",
      "2007-01-03 07:16:24.384000          0          0          0  53.0       3   \n",
      "2007-01-03 18:42:11.260800          0          0          0  98.0       3   \n",
      "\n",
      "                            ssf  dir  sm_noise  snow_prob  frozen_prob  \\\n",
      "2007-01-02 19:03:00.000000    1    0       4.0         11           82   \n",
      "2007-01-03 07:16:24.384000    1    1       3.0         22           64   \n",
      "2007-01-03 18:42:11.260800    1    0       3.0         22           64   \n",
      "\n",
      "                            abs_sm_gldas  abs_sm_noise_gldas  abs_sm_hwsd  \\\n",
      "2007-01-02 19:03:00.000000           NaN                 NaN          NaN   \n",
      "2007-01-03 07:16:24.384000           NaN                 NaN          NaN   \n",
      "2007-01-03 18:42:11.260800           NaN                 NaN          NaN   \n",
      "\n",
      "                            abs_sm_noise_hwsd  \n",
      "2007-01-02 19:03:00.000000                NaN  \n",
      "2007-01-03 07:16:24.384000                NaN  \n",
      "2007-01-03 18:42:11.260800                NaN  \n"
     ]
    }
   ],
   "source": [
    "gpi = 2422095\n",
    "cdr_ts = cdr_reader.read(gpi)\n",
    "cdr_reader.close()\n",
    "print(cdr_ts.data.head(3))"
   ]
  },
  {
   "cell_type": "markdown",
   "metadata": {},
   "source": [
    "#### Grid point locator\n",
    "\n",
    "Grid points can be found using e.g. http://rs.geo.tuwien.ac.at/dv/dgg/"
   ]
  },
  {
   "cell_type": "code",
   "execution_count": 67,
   "metadata": {},
   "outputs": [],
   "source": [
    "file = open(\"2016-04.txt\", \"w\")\n",
    "file.write(str(cdr_ts.data['2016-04']['sm']))\n",
    "file.close()"
   ]
  },
  {
   "cell_type": "code",
   "execution_count": null,
   "metadata": {},
   "outputs": [],
   "source": [
    "print(cdr_ts.data['2007']['sm']) #correct line"
   ]
  }
 ],
 "metadata": {
  "kernelspec": {
   "display_name": "Python 3",
   "language": "python",
   "name": "python3"
  },
  "language_info": {
   "codemirror_mode": {
    "name": "ipython",
    "version": 3
   },
   "file_extension": ".py",
   "mimetype": "text/x-python",
   "name": "python",
   "nbconvert_exporter": "python",
   "pygments_lexer": "ipython3",
   "version": "3.7.1"
  }
 },
 "nbformat": 4,
 "nbformat_minor": 2
}
